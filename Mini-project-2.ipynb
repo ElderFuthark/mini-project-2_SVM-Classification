{
 "cells": [
  {
   "cell_type": "markdown",
   "metadata": {},
   "source": [
    "### Class: Machine Learning <br> Date: 11/02/2018 <br> Mini-Project 2\n",
    "\n",
    "### Members:\n",
    "__Thomas Henderson__<br>\n",
    "__Travis Hills__<br>\n",
    "__Lucas Rufo__<br>\n",
    "__Kyle Thomas__<br>"
   ]
  },
  {
   "cell_type": "code",
   "execution_count": 14,
   "metadata": {},
   "outputs": [],
   "source": [
    "import numpy as np\n",
    "import matplotlib.pyplot as plot\n",
    "import pandas as pd\n",
    "from sklearn.model_selection import train_test_split\n",
    "\n",
    "# Read in the data using Pandas\n",
    "data = pd.read_csv(\"data/bezdekIris.csv\")\n",
    "data.head()\n",
    "# Separate lables and data\n",
    "########## The labels used below have been added to the CSV file manually. Using loc and iloc \n",
    "########## seemed to fail in getting every sample, as the first was interpreted as the name of the column.\n",
    "\n",
    "y = data[\"Class\"].copy()\n",
    "X = data.drop([\"SW\", \"SL\", \"Class\"], axis=1)\n",
    "\n",
    "# Split the data into training and test sets. \n",
    "# By the 80-20 rule, 80% of the data is for training and 20% is reserved for testing.\n",
    "\n",
    "X_train, X_test, y_train, y_test = train_test_split(X, y, test_size=0.20)\n"
   ]
  },
  {
   "cell_type": "code",
   "execution_count": null,
   "metadata": {},
   "outputs": [],
   "source": [
    "# Data has been split. \n",
    "# There are no null entires.\n",
    "# Normalize data if needed.\n",
    "# Train SVM models and compare them\n",
    "\n"
   ]
  },
  {
   "cell_type": "code",
   "execution_count": null,
   "metadata": {},
   "outputs": [],
   "source": []
  }
 ],
 "metadata": {
  "kernelspec": {
   "display_name": "Python 3",
   "language": "python",
   "name": "python3"
  },
  "language_info": {
   "codemirror_mode": {
    "name": "ipython",
    "version": 3
   },
   "file_extension": ".py",
   "mimetype": "text/x-python",
   "name": "python",
   "nbconvert_exporter": "python",
   "pygments_lexer": "ipython3",
   "version": "3.6.6"
  }
 },
 "nbformat": 4,
 "nbformat_minor": 2
}
