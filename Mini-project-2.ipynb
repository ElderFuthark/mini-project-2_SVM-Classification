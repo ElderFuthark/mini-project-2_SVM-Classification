{
 "cells": [
  {
   "cell_type": "markdown",
   "metadata": {},
   "source": [
    "### Class: Machine Learning <br> Date: 11/02/2018 <br> Mini-Project 2\n",
    "\n",
    "### Members:\n",
    "__Thomas Henderson__<br>\n",
    "__Travis Hills__<br>\n",
    "__Lucas Rufo__<br>\n",
    "__Kyle Thomas__<br>"
   ]
  },
  {
   "cell_type": "code",
   "execution_count": 90,
   "metadata": {},
   "outputs": [],
   "source": [
    "import itertools\n",
    "import numpy as np\n",
    "import matplotlib.pyplot as plt\n",
    "import pandas as pd\n",
    "from sklearn.svm import SVC\n",
    "from sklearn.preprocessing import StandardScaler\n",
    "from sklearn.pipeline import Pipeline\n",
    "from sklearn.model_selection import train_test_split\n",
    "from sklearn.metrics import confusion_matrix\n",
    "plt.rcParams[\"axes.grid\"] = False\n",
    "\n",
    "\n",
    "# Read in the data using Pandas\n",
    "\n",
    "data = pd.read_csv(\"data/bezdekIris.csv\")\n",
    "\n",
    "# Separate lables and data\n",
    "########## The labels used below have been added to the CSV file manually. Using loc and iloc \n",
    "########## seemed to fail in getting every sample, as the first was interpreted as the name of the column.\n",
    "\n",
    "y = data[\"Class\"].copy()\n",
    "X = data.drop([\"SW\", \"SL\", \"Class\"], axis=1)\n",
    "\n",
    "# Split the data into training and test sets. \n",
    "# By the 80-20 rule, 80% of the data is for training and 20% is reserved for testing.\n",
    "\n",
    "X_train, X_test, y_train, y_test = train_test_split(X, y, test_size=0.20)"
   ]
  },
  {
   "cell_type": "code",
   "execution_count": 94,
   "metadata": {},
   "outputs": [],
   "source": [
    "# Data has been split. \n",
    "# There are no null entires.\n",
    "# Normalize data if needed.\n",
    "# Train SVM models and compare them\n",
    "\n",
    "svm_clf = Pipeline([\n",
    "    (\"scaler\", StandardScaler()),\n",
    "    (\"linear_svc\", SVC(kernel=\"linear\", C=1))\n",
    "    ])\n",
    "svm_clf.fit(X_train, y_train)\n",
    "\n",
    "# Make predictions\n",
    "test_pred = svm_clf.predict(X_test)    # Parameters are petal length, petal width"
   ]
  },
  {
   "cell_type": "code",
   "execution_count": 106,
   "metadata": {},
   "outputs": [
    {
     "data": {
      "image/png": "[encoded data removed]",
      "text/plain": [
       "<Figure size 432x288 with 2 Axes>"
      ]
     },
     "metadata": {},
     "output_type": "display_data"
    },
    {
     "name": "stdout",
     "output_type": "stream",
     "text": [
      "precision: 0.9\n",
      "recall: 0.9\n",
      "f1-score: 0.9\n"
     ]
    }
   ],
   "source": [
    "# Trained linear SVM Classifier\n",
    "# Now evaluate predictions using the confusion matrix\n",
    "\n",
    "from sklearn.metrics import recall_score\n",
    "from sklearn.metrics import precision_score\n",
    "from sklearn.metrics import f1_score\n",
    "import seaborn as sns\n",
    "\n",
    "# List containing names of flowers. Used when plotting confusion matrix.\n",
    "class_names = ['setosa', 'versicolor', 'virginica']\n",
    "\n",
    "# Plot confusion matrix\n",
    "\n",
    "def plot_confusion_matrix(cm, classes,\n",
    "                          title='Confusion matrix',\n",
    "                          cmap=plt.cm.Blues):\n",
    "    \n",
    "    plt.title(title)\n",
    "    ax = sns.heatmap(confusionMat, xticklabels=class_names, yticklabels=class_names, annot=True, fmt=\"d\")\n",
    "    plt.ylabel('True label')\n",
    "    plt.xlabel('Predicted label')\n",
    "    #plt.tight_layout()\n",
    "    plt.yticks(rotation=0)\n",
    "    plt.xticks(rotation=0)\n",
    "\n",
    "# Calculate confusion matrix, plot it, and calculate precision; recall, and f1-score.\n",
    "def evaluate(test_labels, pred):\n",
    "    confusionMat = confusion_matrix(test_labels, pred)\n",
    "    plot_confusion_matrix(confusionMat, classes=class_names, title='Confusion matrix')\n",
    "    plt.show()\n",
    "\n",
    "    # Compute the precision\n",
    "    precision = precision_score(test_labels, pred, average=\"micro\")\n",
    "    recall = recall_score(test_labels, pred, average=\"micro\")\n",
    "    f1 = f1_score(test_labels, pred, average=\"micro\")\n",
    "    print(\"precision: \" + str(precision))\n",
    "    print(\"recall: \" + str(recall))\n",
    "    print(\"f1-score: \" + str(f1))\n",
    "\n",
    "\n",
    "evaluate(y_test, test_pred)"
   ]
  },
  {
   "cell_type": "code",
   "execution_count": null,
   "metadata": {},
   "outputs": [],
   "source": []
  },
  {
   "cell_type": "code",
   "execution_count": null,
   "metadata": {},
   "outputs": [],
   "source": []
  }
 ],
 "metadata": {
  "kernelspec": {
   "display_name": "Python 3",
   "language": "python",
   "name": "python3"
  },
  "language_info": {
   "codemirror_mode": {
    "name": "ipython",
    "version": 3
   },
   "file_extension": ".py",
   "mimetype": "text/x-python",
   "name": "python",
   "nbconvert_exporter": "python",
   "pygments_lexer": "ipython3",
   "version": "3.6.6"
  }
 },
 "nbformat": 4,
 "nbformat_minor": 2
}
