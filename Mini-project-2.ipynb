{
 "cells": [
  {
   "cell_type": "markdown",
   "metadata": {},
   "source": [
    "### Class: Machine Learning <br> Date: 11/02/2018 <br> Mini-Project 2\n",
    "\n",
    "### Members:\n",
    "__Thomas Henderson__<br>\n",
    "__Travis Hills__<br>\n",
    "__Lucas Rufo__<br>\n",
    "__Kyle Thomas__<br>"
   ]
  },
  {
   "cell_type": "markdown",
   "metadata": {},
   "source": [
    "## Reading and Splitting the Data\n",
    "\n",
    "In the cell below, a majority of the necessary libraries used in this project are imported The most important one is SVC, which enables Support Vector Classification with C-parameter support. The C parameter determines how strictly the SVM avoids misclassifying data points. A large number implies that the SVM model will select the smallest possible margin that contains all data points. A small number causes the SVM model to select the larger margins at the cost of a few misclassifications. The smaller or larger the value, the greater the effects will be.\n",
    "\n",
    "The first step in data processing is to read in and split the data. The data set as provided did not include feature names for each column, so they were added manually in order to make dropping data easy. There were attemps to use iloc and loc functions to separate out the data set into labels and corresponding data, but these attemps resulted in the first row being completely ignored. With the feature names added, columns could easily be copied or dropped with little impedance.\n",
    "\n",
    "Lastly, the data was split into training and testing sets. The general rule of thumb, according to the course material thus far has been to reserve 80% of the data for training and 20% for testing. To expedite tthis process, SciKit's train_test_split function was used."
   ]
  },
  {
   "cell_type": "code",
   "execution_count": 8,
   "metadata": {},
   "outputs": [],
   "source": [
    "import warnings\n",
    "warnings.simplefilter(action='ignore', category=FutureWarning)\n",
    "import numpy as np\n",
    "import matplotlib.pyplot as plt\n",
    "import pandas as pd\n",
    "from sklearn.svm import SVC\n",
    "from sklearn.preprocessing import StandardScaler\n",
    "from sklearn.pipeline import Pipeline\n",
    "from sklearn.model_selection import train_test_split\n",
    "from sklearn.metrics import confusion_matrix\n",
    "plt.rcParams[\"axes.grid\"] = False\n",
    "\n",
    "\n",
    "# Read in the data using Pandas\n",
    "\n",
    "data = pd.read_csv(\"data/bezdekIris.csv\")\n",
    "\n",
    "# Separate lables and data\n",
    "########## The labels used below have been added to the CSV file manually. Using loc and iloc \n",
    "########## seemed to fail in getting every sample, as the first was interpreted as the name of the column.\n",
    "\n",
    "y = data[\"Class\"].copy()\n",
    "X = data.drop([\"SW\", \"SL\", \"Class\"], axis=1)\n",
    "\n",
    "# Split the data into training and test sets. \n",
    "# By the 80-20 rule, 80% of the data is for training and 20% is reserved for testing.\n",
    "\n",
    "X_train, X_test, y_train, y_test = train_test_split(X, y, test_size=0.20)"
   ]
  },
  {
   "cell_type": "markdown",
   "metadata": {},
   "source": [
    "### Data Pipelines\n",
    "\n",
    "Next, we implement a data pipeline to handle the data and preform the operations on the data all at once. This step allows for simplicity when handling data and when trying to change data sets.\n",
    "\n",
    "Here you can see we are preforming the StandardScaler() function on the used dataset. This function will normalize the data so that its distribution will have a mean value of 0 and a standard deviation of 1. This is a necessary step when trying to use features of different scale or units. StandardScaler allows these different features to be scaled appropriately so they can be used in a machine learning context.\n",
    "\n"
   ]
  },
  {
   "cell_type": "code",
   "execution_count": 10,
   "metadata": {},
   "outputs": [],
   "source": [
    "# Data has been split. \n",
    "# There are no null entires.\n",
    "# Normalize data if needed.\n",
    "# Train SVM models and compare them\n",
    "\n",
    "svm_clf = Pipeline([\n",
    "    (\"scaler\", StandardScaler()),\n",
    "    (\"linear_svc\", SVC(kernel=\"linear\", C=1))\n",
    "    ])\n",
    "svm_clf.fit(X_train, y_train)\n",
    "\n",
    "# Make predictions\n",
    "test_pred = svm_clf.predict(X_test)    # Parameters are petal length, petal width"
   ]
  },
  {
   "cell_type": "markdown",
   "metadata": {},
   "source": [
    "## Computing the Confusion Matrix and Evaluation Metrics\n",
    "\n",
    "With the SVM classifier trained and predictions made, it was time to evaluate the model's perfomance. Two functions, plot_confusion_matrix and evaluate, were written to automate the evaluation task. plot_confusion_matrix takes advantage of the seaborn library to generate a heatmap that clearly indicates the model's success. In the confusion matrix shown below, the y-axis represents the labels of the set, while the x-axis represents the predicted values. The diagonal represents correct predictions. Other non-zero matrix elements are incorrect predictions.\n",
    "\n",
    "With a linear kernel and C parameter of 1, the SVM classifier is fairly accurate. It only misclassifies two cases. Additionally, the precision, recall, and F1-score are all close to 1, at around 0.9. Thus, this model has a low false positive rate, high sensitivity, and great overal rating. For simplicity, the precision_score, recall_score, and f1_score functions were used to calculate these values, as each function could be fed the labels and predictions the comprise the entirety of the confusion matrix. This prevented the tedium of changing true positive, false positive, and false negative values when changing the score type. The macro parameter calculate the metric for each label and then finds the unweighted mean."
   ]
  },
  {
   "cell_type": "code",
   "execution_count": 12,
   "metadata": {},
   "outputs": [
    {
     "data": {
      "image/png": "[encoded data removed]",
      "text/plain": [
       "<Figure size 432x288 with 2 Axes>"
      ]
     },
     "metadata": {
      "needs_background": "light"
     },
     "output_type": "display_data"
    },
    {
     "name": "stdout",
     "output_type": "stream",
     "text": [
      "precision: 0.9688888888888889\n",
      "recall: 0.9666666666666667\n",
      "f1-score: 0.965389527458493\n"
     ]
    }
   ],
   "source": [
    "# Trained linear SVM Classifier\n",
    "# Now evaluate predictions using the confusion matrix\n",
    "\n",
    "from sklearn.metrics import recall_score\n",
    "from sklearn.metrics import precision_score\n",
    "from sklearn.metrics import f1_score\n",
    "import seaborn as sns\n",
    "\n",
    "# List containing names of flowers. Used when plotting confusion matrix.\n",
    "class_names = ['setosa', 'versicolor', 'virginica']\n",
    "\n",
    "# Plot confusion matrix\n",
    "\n",
    "def plot_confusion_matrix(cm, classes,\n",
    "                          title='Confusion matrix',\n",
    "                          cmap=plt.cm.Blues):\n",
    "    \n",
    "    plt.title(title)\n",
    "    ax = sns.heatmap(cm, xticklabels=class_names, yticklabels=class_names, annot=True, fmt=\"d\")\n",
    "    plt.ylabel('True label')\n",
    "    plt.xlabel('Predicted label')\n",
    "    #plt.tight_layout()\n",
    "    plt.yticks(rotation=0)\n",
    "    plt.xticks(rotation=0)\n",
    "\n",
    "# Calculate confusion matrix, plot it, and calculate precision; recall, and f1-score.\n",
    "def evaluate(test_labels, pred):\n",
    "    confusionMat = confusion_matrix(test_labels, pred)\n",
    "    plot_confusion_matrix(confusionMat, classes=class_names, title='Confusion matrix')\n",
    "    plt.show()\n",
    "\n",
    "    # Compute the precision\n",
    "    precision = precision_score(test_labels, pred, average=\"weighted\")\n",
    "    recall = recall_score(test_labels, pred, average=\"weighted\")\n",
    "    f1 = f1_score(test_labels, pred, average=\"weighted\")\n",
    "    print(\"precision: \" + str(precision))\n",
    "    print(\"recall: \" + str(recall))\n",
    "    print(\"f1-score: \" + str(f1))\n",
    "\n",
    "\n",
    "evaluate(y_test, test_pred)"
   ]
  },
  {
   "cell_type": "markdown",
   "metadata": {},
   "source": [
    "### GridSearch\n",
    "\n",
    "Here we preform grid search. To help us get the best c and gamma parameters. Grid search is able to take the data parameters in multiple instances of training and tests set and fit to our model many times to help tune the model based on C, gamma, and kernel values.\n",
    "\n",
    "We are using a Support Vector Machine as the driving model. For our SVC we are using a linear kernel and a C parameter of 1. This way we should see an ability to classify correctly and allow outliers to be disregarded and not greatly affect the model. "
   ]
  },
  {
   "cell_type": "code",
   "execution_count": 13,
   "metadata": {},
   "outputs": [
    {
     "data": {
      "image/png": "[encoded data removed]",
      "text/plain": [
       "<Figure size 432x288 with 2 Axes>"
      ]
     },
     "metadata": {
      "needs_background": "light"
     },
     "output_type": "display_data"
    },
    {
     "name": "stdout",
     "output_type": "stream",
     "text": [
      "precision: 1.0\n",
      "recall: 1.0\n",
      "f1-score: 1.0\n"
     ]
    }
   ],
   "source": [
    "# Original predictions have been made.\n",
    "# Now perform grid search to find the optimal C and gamma parameters\n",
    "from sklearn.model_selection import GridSearchCV\n",
    "from sklearn.model_selection import ParameterGrid\n",
    "\n",
    "param_grid = [{'kernel': ['linear'], 'gamma': [1e-3, 1e-4],\n",
    "                'C': [1, 10, 100, 1000]}]\n",
    "\n",
    "\n",
    "grid = GridSearchCV(SVC(),param_grid,refit=True)\n",
    "grid.fit(X_train,y_train)\n",
    "\n",
    "# Predict with newly trained model\n",
    "grid_test_pred = grid.predict(X_test)\n",
    "\n",
    "# Evaluate\n",
    "evaluate(y_test, grid_test_pred)"
   ]
  },
  {
   "cell_type": "markdown",
   "metadata": {},
   "source": [
    "|Member| Code          | Documentation | Presentation  |\n",
    "|:------------:| :------------:|:-------------:|:-------------:|\n",
    "| Lucas Rufo   | 25%           | 25%     | 25% |\n",
    "| Travis Hill  | 25%           | 25%         |   25% |\n",
    "| Thomas Henderson | 25%       | 25%            |    25 |\n",
    "| Kyle Thomas | 25% | 25%                 |    25% |"
   ]
  },
  {
   "cell_type": "code",
   "execution_count": null,
   "metadata": {},
   "outputs": [],
   "source": []
  },
  {
   "cell_type": "code",
   "execution_count": null,
   "metadata": {},
   "outputs": [],
   "source": []
  }
 ],
 "metadata": {
  "kernelspec": {
   "display_name": "Python 3",
   "language": "python",
   "name": "python3"
  },
  "language_info": {
   "codemirror_mode": {
    "name": "ipython",
    "version": 3
   },
   "file_extension": ".py",
   "mimetype": "text/x-python",
   "name": "python",
   "nbconvert_exporter": "python",
   "pygments_lexer": "ipython3",
   "version": "3.6.6"
  }
 },
 "nbformat": 4,
 "nbformat_minor": 2
}
